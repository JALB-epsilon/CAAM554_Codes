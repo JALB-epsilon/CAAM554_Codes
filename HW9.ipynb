{
  "nbformat": 4,
  "nbformat_minor": 0,
  "metadata": {
    "colab": {
      "name": "HW9.ipynb",
      "provenance": [],
      "collapsed_sections": [],
      "authorship_tag": "ABX9TyM6HfYR5gS8ve0Cz/qTELJw",
      "include_colab_link": true
    },
    "kernelspec": {
      "name": "python3",
      "display_name": "Python 3"
    },
    "language_info": {
      "name": "python"
    }
  },
  "cells": [
    {
      "cell_type": "markdown",
      "metadata": {
        "id": "view-in-github",
        "colab_type": "text"
      },
      "source": [
        "<a href=\"https://colab.research.google.com/github/JALB-epsilon/CAAM554_Codes/blob/main/HW9.ipynb\" target=\"_parent\"><img src=\"https://colab.research.google.com/assets/colab-badge.svg\" alt=\"Open In Colab\"/></a>"
      ]
    },
    {
      "cell_type": "markdown",
      "metadata": {
        "id": "FRejukNlDfeN"
      },
      "source": [
        "#It contains all the problem from the HW9.\n",
        "\n"
      ]
    },
    {
      "cell_type": "markdown",
      "metadata": {
        "id": "rQVkHwzZUKNP"
      },
      "source": [
        "##Setting Libraries"
      ]
    },
    {
      "cell_type": "code",
      "metadata": {
        "id": "xbP-fSI6i5fo"
      },
      "source": [
        "import jax \n",
        "import jax.numpy as jnp\n",
        "from jax import grad, jit, jacrev\n",
        "from jax import random, device_put\n",
        "import matplotlib.pyplot as plt\n",
        "key = random.PRNGKey(10)"
      ],
      "execution_count": 33,
      "outputs": []
    },
    {
      "cell_type": "markdown",
      "metadata": {
        "id": "YtsGPV-FDbL0"
      },
      "source": [
        "#Problem 3"
      ]
    },
    {
      "cell_type": "code",
      "metadata": {
        "colab": {
          "base_uri": "https://localhost:8080/"
        },
        "id": "pOCBUko-i6mZ",
        "outputId": "ece6f2ff-3cec-41f7-fc6d-300d7ef39b2b"
      },
      "source": [
        "#If you want to run it in a GPU (though is not needed), \n",
        "#Go to Runtime->Change runtime type -> Hardware accelerator.\n",
        "jax.devices()"
      ],
      "execution_count": 34,
      "outputs": [
        {
          "output_type": "execute_result",
          "data": {
            "text/plain": [
              "[CpuDevice(id=0)]"
            ]
          },
          "metadata": {
            "tags": []
          },
          "execution_count": 34
        }
      ]
    },
    {
      "cell_type": "code",
      "metadata": {
        "id": "I1HYv1fOnxwM"
      },
      "source": [
        "def F(x):\n",
        "  F1 = jnp.dot(x,x)-2;  F2 = jnp.exp(x[0]-1)+x[1]**2-2\n",
        "  return device_put(jnp.array([F1,F2]))\n",
        "jit_F = jit(F)\n",
        "jit_jacob = jit(jacrev(jit_F))\n",
        "\n",
        "def f(x, jit_F = jit_F):\n",
        "  return jnp.dot(jit_F(x),jit_F(x))/2\n",
        "jit_f = jit(f)\n",
        "#jit_f_grad = jnp.dot(jit_jacob(x).T, jit_F(x))\n",
        "jit_f_grad = jit(grad(jit_f))"
      ],
      "execution_count": 35,
      "outputs": []
    },
    {
      "cell_type": "code",
      "metadata": {
        "colab": {
          "base_uri": "https://localhost:8080/"
        },
        "id": "B-FJahPnovBU",
        "outputId": "1889217b-e1fa-4dc8-96a3-7186a7f557eb"
      },
      "source": [
        "x = jnp.array([0.,0.])\n",
        "jit_F(x), jit_jacob(x)"
      ],
      "execution_count": 36,
      "outputs": [
        {
          "output_type": "execute_result",
          "data": {
            "text/plain": [
              "(DeviceArray([-2.       , -1.6321206], dtype=float32),\n",
              " DeviceArray([[0.        , 0.        ],\n",
              "              [0.36787945, 0.        ]], dtype=float32))"
            ]
          },
          "metadata": {
            "tags": []
          },
          "execution_count": 36
        }
      ]
    },
    {
      "cell_type": "code",
      "metadata": {
        "colab": {
          "base_uri": "https://localhost:8080/"
        },
        "id": "B3OjSEJbqGyl",
        "outputId": "68a693c4-e0d4-4c27-c372-04f96889a8b3"
      },
      "source": [
        "jit_f(x), jit_f_grad(x)"
      ],
      "execution_count": 37,
      "outputs": [
        {
          "output_type": "execute_result",
          "data": {
            "text/plain": [
              "(DeviceArray(3.3319087, dtype=float32),\n",
              " DeviceArray([-0.60042363, -0.        ], dtype=float32))"
            ]
          },
          "metadata": {
            "tags": []
          },
          "execution_count": 37
        }
      ]
    },
    {
      "cell_type": "code",
      "metadata": {
        "colab": {
          "base_uri": "https://localhost:8080/"
        },
        "id": "cOrGf5EfsRsB",
        "outputId": "cee51e64-5592-4e80-a0e2-442e41eb125a"
      },
      "source": [
        "jnp.dot(jit_jacob(x).T, jit_F(x))"
      ],
      "execution_count": 38,
      "outputs": [
        {
          "output_type": "execute_result",
          "data": {
            "text/plain": [
              "DeviceArray([-0.60042363,  0.        ], dtype=float32)"
            ]
          },
          "metadata": {
            "tags": []
          },
          "execution_count": 38
        }
      ]
    },
    {
      "cell_type": "markdown",
      "metadata": {
        "id": "kWjnAN0Cm4hn"
      },
      "source": [
        "###Newton Method for root finding and line search"
      ]
    },
    {
      "cell_type": "code",
      "metadata": {
        "id": "wNdwwWjoLHeX"
      },
      "source": [
        "def Armijo(f, beta1=0.5, beta2=0.5, alpha=1):\n",
        "  if beta1<=beta2: \n",
        "    return jax.random.uniform(key, minval=beta1*alpha, maxval=beta2*alpha)\n",
        "  else:\n",
        "    print(\"error\")"
      ],
      "execution_count": 39,
      "outputs": []
    },
    {
      "cell_type": "code",
      "metadata": {
        "id": "cbbJ7zqcnAk4"
      },
      "source": [
        "def newton_method(x, jit_F = jit_F, jit_jacob_F = jit_jacob, jit_f = jit_f,jit_f_grad = jit_f_grad,\n",
        "                 alpha =1, tol = 1e-12,  maxIt =100, PrintVar =1, PrintX = None,\n",
        "                 save_files = None, beta1=0.5, beta2=0.5, c1= 1e-4):\n",
        "  n =len(x)\n",
        "  if n < 20: \n",
        "    print(f\"initial state x_0 = {x}, alpha:{alpha}\")\n",
        "  if save_files: \n",
        "    val_F_norm = []\n",
        "    val_sk_norm= []\n",
        "    val_alpha_k = []\n",
        "    iter = []\n",
        "  for i in range(maxIt):\n",
        "    F = jit_F(x)\n",
        "    jacobian_F = jit_jacob_F(x)\n",
        "    s = jnp.linalg.solve(jacobian_F, -F)\n",
        "    aks = jnp.linalg.norm(s*alpha,ord=2)\n",
        "    Fnorm = jnp.linalg.norm(F,ord=2)\n",
        "    if i%PrintVar ==0: \n",
        "      print(f\"iteration{i}, x={x}, |F|={Fnorm},|alpha*s|={aks}, alpha={alpha}\" )\n",
        "      if PrintX: \n",
        "          print(f\"x: {x}\")\n",
        "      if save_files:\n",
        "        val_F_norm.append(Fnorm)\n",
        "        val_sk_norm.append(aks)\n",
        "        val_alpha_k.append(alpha)\n",
        "        iter.append(i)\n",
        "    if Fnorm< tol:\n",
        "        print(\"****************************************\")\n",
        "        print(f\"stop because F(x)= {F}< {tol*(jnp.ones_like(F))} with x = {x}\")\n",
        "        break            \n",
        "    if jnp.isnan(f(x)):\n",
        "        print(\"****************************************\")\n",
        "        print(f\"stop because abs(F)= {F}, Newton method diverges\")\n",
        "        break \n",
        "    while f(x+alpha*s) > f(x)+c1*alpha*jnp.dot(jit_f_grad(x), s):\n",
        "      alpha = Armijo(f, beta1, beta2, alpha)\n",
        "    x+= alpha*s   \n",
        "  print(\"****************************************\")\n",
        "  if n< 20: \n",
        "    print(f\"iteration: {i}, F(x): {F}, and x={x} , alpha:{alpha}\")\n",
        "  else: \n",
        "    print(f\"iteration: {i}, F(x): {F}\")\n",
        "  if save_files:\n",
        "    return val_F_norm, val_sk_norm, val_alpha_k, iter, x\n",
        "  else:\n",
        "    return x"
      ],
      "execution_count": 42,
      "outputs": []
    },
    {
      "cell_type": "code",
      "metadata": {
        "colab": {
          "base_uri": "https://localhost:8080/"
        },
        "id": "8PSu0gFU0hdZ",
        "outputId": "7e1810f5-8872-4261-e2dd-e936e8e91864"
      },
      "source": [
        "xinit = jnp.array([1.5,2.])\n",
        "val_F, val_sk, val_alpha, iter, x =newton_method(xinit, save_files=1, beta1=0.2, beta2=0.5)"
      ],
      "execution_count": 43,
      "outputs": [
        {
          "output_type": "stream",
          "text": [
            "initial state x_0 = [1.5 2. ], alpha:1\n",
            "iteration0, x=[1.5 2. ], |F|=5.601398944854736,|alpha*s|=0.8538780212402344, alpha=1\n",
            "iteration1, x=[1.0550297 1.2712276], |F|=0.9919562339782715,|alpha*s|=0.24811919033527374, alpha=1\n",
            "iteration2, x=[1.0013834 1.0289773], |F|=0.08608981221914291,|alpha*s|=0.02860260009765625, alpha=1\n",
            "iteration3, x=[1.0000008 1.000408 ], |F|=0.001156121725216508,|alpha*s|=0.0004079238569829613, alpha=1\n",
            "iteration4, x=[0.99999994 1.0000001 ], |F|=2.6656007889869215e-07,|alpha*s|=2.149075726265437e-07, alpha=1\n",
            "iteration5, x=[1.         0.99999994], |F|=1.6858739115832577e-07,|alpha*s|=5.960465188081798e-08, alpha=1\n",
            "iteration6, x=[1. 1.], |F|=0.0,|alpha*s|=0.0, alpha=1\n",
            "****************************************\n",
            "stop because F(x)= [0. 0.]< [1.e-12 1.e-12] with x = [1. 1.]\n",
            "****************************************\n",
            "iteration: 6, F(x): [0. 0.], and x=[1. 1.] , alpha:1\n"
          ],
          "name": "stdout"
        }
      ]
    }
  ]
}